{
 "cells": [
  {
   "cell_type": "code",
   "execution_count": 2,
   "id": "f82bde62",
   "metadata": {},
   "outputs": [
    {
     "name": "stdout",
     "output_type": "stream",
     "text": [
      "enter the name of the city: mumbai\n",
      "Temperature:30.99°C,Description:haze\n"
     ]
    }
   ],
   "source": [
    "import requests\n",
    "API_KEY= '94970babc97def21f5866d5afaba01f9'\n",
    "\n",
    "def get_weather_data(city):\n",
    "    url=f'http://api.openweathermap.org/data/2.5/weather?q={city}&appid={API_KEY}&units=metric'\n",
    "    response=requests.get(url)\n",
    "    return response.json()\n",
    "\n",
    "def display_weather(data):\n",
    "    temperature=data['main']['temp']\n",
    "    description=data['weather'][0]['description']\n",
    "    print(f'Temperature:{temperature}°C,Description:{description}')\n",
    "    \n",
    "city=input('enter the name of the city: ')\n",
    "weather_data=get_weather_data(city)\n",
    "display_weather(weather_data)"
   ]
  },
  {
   "cell_type": "code",
   "execution_count": null,
   "id": "5778ec3e",
   "metadata": {},
   "outputs": [],
   "source": []
  }
 ],
 "metadata": {
  "kernelspec": {
   "display_name": "Python 3 (ipykernel)",
   "language": "python",
   "name": "python3"
  },
  "language_info": {
   "codemirror_mode": {
    "name": "ipython",
    "version": 3
   },
   "file_extension": ".py",
   "mimetype": "text/x-python",
   "name": "python",
   "nbconvert_exporter": "python",
   "pygments_lexer": "ipython3",
   "version": "3.11.5"
  }
 },
 "nbformat": 4,
 "nbformat_minor": 5
}
